{
 "cells": [
  {
   "cell_type": "code",
   "execution_count": 1,
   "metadata": {},
   "outputs": [],
   "source": [
    "import cv2\n",
    "import os\n",
    "i=0\n",
    "try: \n",
    "\t\n",
    "\t# creating a folder named frame_captured \n",
    "\tif not os.path.exists('frame_captured'): \n",
    "\t\tos.makedirs('frame_captured') \n",
    "\n",
    "\n",
    "except OSError:                                        # if folder not created \n",
    "\tprint ('Error: Creating directory of data')\n",
    "\t\n",
    "WindowName=\"Live Video\"\n",
    "cv2.namedWindow(WindowName)\n",
    "Video=cv2.VideoCapture(0)\n",
    "if Video.isOpened():\n",
    "    ret,frame=Video.read()\n",
    "else:\n",
    "    print(\"Error Capturing Video\")\n",
    "while(ret):\n",
    "    ret,frame=Video.read()\n",
    "    cv2.imshow(WindowName,frame)              #function to display video\n",
    "    img=cv2.cvtColor(frame,cv2.COLOR_BGR2RGB)\n",
    "    i+=1\n",
    "    cv2.imwrite('./frame_captured/img'+str(i)+'.jpg',frame) #function to save video\n",
    "    if cv2.waitKey(1)==27:     #if Esc key has been pressed video capture stops\n",
    "        break\n",
    "cv2.destroyWindow(WindowName)\n",
    "Video.release()\n"
   ]
  },
  {
   "cell_type": "code",
   "execution_count": null,
   "metadata": {},
   "outputs": [],
   "source": []
  }
 ],
 "metadata": {
  "kernelspec": {
   "display_name": "Python 3",
   "language": "python",
   "name": "python3"
  },
  "language_info": {
   "codemirror_mode": {
    "name": "ipython",
    "version": 3
   },
   "file_extension": ".py",
   "mimetype": "text/x-python",
   "name": "python",
   "nbconvert_exporter": "python",
   "pygments_lexer": "ipython3",
   "version": "3.7.3"
  }
 },
 "nbformat": 4,
 "nbformat_minor": 2
}
