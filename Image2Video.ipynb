{
 "cells": [
  {
   "cell_type": "code",
   "execution_count": 5,
   "metadata": {},
   "outputs": [],
   "source": [
    "#Video to Image\n",
    "import cv2\n",
    "import os\n",
    "i=0                 \n",
    "try: \n",
    "\n",
    "# creating a folder named frame_captured \n",
    "    if not os.path.exists('folder'): \n",
    "        os.makedirs('folder') \n",
    "\n",
    "\n",
    "except OSError:                                        # if folder not created \n",
    "\tprint ('Error: Creating directory of data')\n",
    "video=cv2.VideoCapture(\".//folder//video.mp4\");# Creating the object Video for capturing video\n",
    "# from the first webcam,the same function is used for capturing video already stored as a file by specifying path\n",
    "\n",
    "if video.isOpened():      # to check if the webcam is found connected to the computer\n",
    "        ret,frame=video.read() #command to capture video\n",
    "         \n",
    "else:\n",
    "        print(\"Error Loading Video\")\n",
    "        ret=False\n",
    "\n",
    "while(ret==True):\n",
    "    ret,frame=video.read()\n",
    "    if ret==False:\n",
    "            break\n",
    "    img = cv2.cvtColor(frame,cv2.COLOR_BGR2RGB)# The function is for changing colorspace of an image.\n",
    "                                               # frame is the input image and cv2.COLOR_BGR2RGB is flag telling\n",
    "                                               # type of conversion\n",
    "    i+=1\n",
    "    cv2.imwrite('./folder/img'+str(i)+'.jpg',frame)\n",
    "    \n",
    "    if i==1001:\n",
    "        ret=False\n",
    "video.release()\n",
    "\n",
    "\n"
   ]
  },
  {
   "cell_type": "code",
   "execution_count": 6,
   "metadata": {},
   "outputs": [],
   "source": [
    "#Image to Video\n",
    "import cv2\n",
    "import os\n",
    "\n",
    "\n",
    "def Image2Video(Output, fps,size,image_array):         #function to create video from image\n",
    "    \n",
    "    video = cv2.VideoWriter(Output,cv2.VideoWriter_fourcc(*'MP4V'), fps, size)\n",
    "    for i in range(len(image_array)):\n",
    "        # writing to a image array\n",
    "        video.write(image_array[i])\n",
    "    video.release()\n",
    "    \n",
    "if __name__==\"__main__\":\n",
    "    image_array=[]\n",
    "    Input= './/folder//img'\n",
    "    Output = './/folder//video.mp4'\n",
    "    fps = 25\n",
    "    \n",
    "    for i in range(0,1000,1):    #Creating array of images to be converted into video\n",
    "        filename= Input +str(i)+'.jpg'\n",
    "        img=cv2.imread(filename)\n",
    "        #print(\"loading\"+filename)\n",
    "        image_array.append(img)\n",
    "    height,width,layers=img.shape\n",
    "    size=(width,height)   \n",
    "    Image2Video(Output, fps,size,image_array)\n"
   ]
  },
  {
   "cell_type": "code",
   "execution_count": null,
   "metadata": {},
   "outputs": [],
   "source": []
  }
 ],
 "metadata": {
  "kernelspec": {
   "display_name": "Python 3",
   "language": "python",
   "name": "python3"
  },
  "language_info": {
   "codemirror_mode": {
    "name": "ipython",
    "version": 3
   },
   "file_extension": ".py",
   "mimetype": "text/x-python",
   "name": "python",
   "nbconvert_exporter": "python",
   "pygments_lexer": "ipython3",
   "version": "3.7.8"
  }
 },
 "nbformat": 4,
 "nbformat_minor": 2
}
